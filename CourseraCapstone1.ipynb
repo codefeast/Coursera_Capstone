{
 "cells": [
  {
   "cell_type": "markdown",
   "metadata": {},
   "source": [
    "# <font color=blue> My Friendly Neighborhood Project: Safe School Districts in City of New York</font>"
   ]
  },
  {
   "cell_type": "markdown",
   "metadata": {},
   "source": [
    "## Introduction\n",
    "This project attempts to identify safe school disctricts in cities like Toronto"
   ]
  },
  {
   "cell_type": "markdown",
   "metadata": {},
   "source": [
    "## Business Problem\n",
    "Large cities of the size of New York  attracts people from all over the world. There are people who move in permanently as immigrants,\n",
    "some move for work, some to reunite with family and for various other reasons. For all these people, especially those with families, \n",
    "with kids of school going age, it is vital to identify safe neighourhoods.\n",
    "This project attempts to solve this problem by identifying high crime rate areas which serves as an indicator for newcomers to watch out for before making decisions regarding renting or buying real estate. It will help them avoid places with relatively higher crime rates."
   ]
  },
  {
   "cell_type": "markdown",
   "metadata": {},
   "source": [
    "## Data\n",
    "Listed are the data sources for help with this project :\n",
    "\n",
    "1. List of boroughs and neighborhoods in the state of NYC. Neighborhood has a total of 5 boroughs and 306 neighborhoods. In order to segement the neighborhoods and explore them, we will essentially need a dataset that contains the 5 boroughs and the neighborhoods that exist in each borough as well as the the latitude and logitude coordinates of each neighborhood.\n",
    "Here is the link to the dataset: https://geo.nyu.edu/catalog/nyu_2451_34572\n",
    "\n",
    "2. GeoJSON data for New York : \n",
    "https://cocl.us/new_york_dataset\n",
    "\n"
   ]
  },
  {
   "cell_type": "code",
   "execution_count": null,
   "metadata": {},
   "outputs": [],
   "source": []
  }
 ],
 "metadata": {
  "kernelspec": {
   "display_name": "Python 3",
   "language": "python",
   "name": "python3"
  },
  "language_info": {
   "codemirror_mode": {
    "name": "ipython",
    "version": 3
   },
   "file_extension": ".py",
   "mimetype": "text/x-python",
   "name": "python",
   "nbconvert_exporter": "python",
   "pygments_lexer": "ipython3",
   "version": "3.6.8"
  }
 },
 "nbformat": 4,
 "nbformat_minor": 2
}
